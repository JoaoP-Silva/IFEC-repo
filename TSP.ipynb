{
 "cells": [
  {
   "cell_type": "code",
   "execution_count": 3,
   "id": "0e23182b",
   "metadata": {},
   "outputs": [],
   "source": [
    "#imports\n",
    "import numpy as np\n",
    "\n",
    "#random seed to replicate\n",
    "np.random.seed(42)"
   ]
  },
  {
   "cell_type": "code",
   "execution_count": 4,
   "id": "a9ca0257",
   "metadata": {},
   "outputs": [],
   "source": [
    "#Create a instance of metric TSP\n",
    "def create_instance(n):\n",
    "    x = np.random.rand(n)\n",
    "    y = np.random.rand(n)\n",
    "    \n",
    "    return x, y"
   ]
  },
  {
   "cell_type": "code",
   "execution_count": 7,
   "id": "c1cfd7dc",
   "metadata": {},
   "outputs": [],
   "source": [
    "#Compute euclidean distance\n",
    "def distance(x1, y1, x2, y2):\n",
    "    return np.sqrt((x1 - x2)**2 + (y1- y2)**2) "
   ]
  },
  {
   "cell_type": "code",
   "execution_count": 8,
   "id": "e4bc821d",
   "metadata": {},
   "outputs": [],
   "source": [
    "#Given a sequence of nodes, compute the distance array\n",
    "def compute_distance(nodes_sequence, x, y):\n",
    "    siz = len(nodes_sequence - 1)\n",
    "    distances = np.empty(siz)\n",
    "    \n",
    "    d = 0\n",
    "    for i in range(siz):\n",
    "        j = (i + 1) % siz\n",
    "        \n",
    "        x1 = x[i]\n",
    "        y1 = y[i]\n",
    "        \n",
    "        x2 = x[j]\n",
    "        y2 = y[j]\n",
    "        \n",
    "        distances[i] += distance(x1, y1, x2, y2)\n",
    "        \n",
    "    return distances"
   ]
  },
  {
   "cell_type": "code",
   "execution_count": 9,
   "id": "d4a5933a",
   "metadata": {},
   "outputs": [
    {
     "ename": "SyntaxError",
     "evalue": "invalid syntax (301743243.py, line 2)",
     "output_type": "error",
     "traceback": [
      "\u001b[1;36m  Cell \u001b[1;32mIn[9], line 2\u001b[1;36m\u001b[0m\n\u001b[1;33m    def propose_modification(seq)>\u001b[0m\n\u001b[1;37m                                 ^\u001b[0m\n\u001b[1;31mSyntaxError\u001b[0m\u001b[1;31m:\u001b[0m invalid syntax\n"
     ]
    }
   ],
   "source": [
    "#Propose a modification in curr sequence. Returns the difference between the proposed distance and the actual\n",
    "def propose_modification(seq, distances, x, y):\n",
    "    "
   ]
  },
  {
   "cell_type": "code",
   "execution_count": null,
   "id": "95c61ea5",
   "metadata": {},
   "outputs": [],
   "source": []
  }
 ],
 "metadata": {
  "kernelspec": {
   "display_name": "Python 3 (ipykernel)",
   "language": "python",
   "name": "python3"
  },
  "language_info": {
   "codemirror_mode": {
    "name": "ipython",
    "version": 3
   },
   "file_extension": ".py",
   "mimetype": "text/x-python",
   "name": "python",
   "nbconvert_exporter": "python",
   "pygments_lexer": "ipython3",
   "version": "3.8.17"
  }
 },
 "nbformat": 4,
 "nbformat_minor": 5
}
